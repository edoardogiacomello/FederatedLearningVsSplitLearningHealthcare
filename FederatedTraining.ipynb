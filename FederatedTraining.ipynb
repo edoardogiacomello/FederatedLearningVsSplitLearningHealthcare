{
 "cells": [
  {
   "cell_type": "code",
   "execution_count": null,
   "metadata": {},
   "outputs": [],
   "source": [
    "!pip install --quiet --upgrade tensorflow_federated\n",
    "!pip install nest_asyncio\n",
    "import nest_asyncio\n",
    "nest_asyncio.apply()"
   ]
  },
  {
   "cell_type": "code",
   "execution_count": null,
   "metadata": {},
   "outputs": [],
   "source": [
    "import tensorflow as tf\n",
    "# Evita di allocare tutta la memoria video a tensorflow (Chiamare solo al primo import di tf)\n",
    "physical_devices = tf.config.experimental.list_physical_devices('GPU')\n",
    "if len(physical_devices) > 0:\n",
    "    tf.config.experimental.set_memory_growth(physical_devices[0], True)\n",
    "else:\n",
    "    print(\"No GPU found, model running on CPU\")\n",
    "\n",
    "from federated_process import FederatedProcess\n",
    "import numpy as np\n",
    "from tensorflow.keras.applications.mobilenet_v2 import MobileNetV2"
   ]
  },
  {
   "cell_type": "code",
   "execution_count": 2,
   "metadata": {},
   "outputs": [],
   "source": [
    "SEED = 1234567890\n",
    "tf.random.set_seed(SEED)\n",
    "np.random.seed(SEED)"
   ]
  },
  {
   "cell_type": "markdown",
   "metadata": {},
   "source": [
    "# Esperimento 1"
   ]
  },
  {
   "cell_type": "code",
   "execution_count": 5,
   "metadata": {},
   "outputs": [],
   "source": [
    "# Definizione dei client e dei dataset\n",
    "BASE_DATASET_PATH = './datasets/CheXpertFederated/'\n",
    "exp_1_config = {\n",
    "  'client_0': {'path': BASE_DATASET_PATH + 'train_def-part-0.tfrecord', 'take_only':32},\n",
    "  'client_1': {'path': BASE_DATASET_PATH + 'train_def-part-1.tfrecord', 'take_only':32},\n",
    "  'client_2': {'path': BASE_DATASET_PATH + 'train_def-part-2.tfrecord', 'take_only':32}\n",
    "}"
   ]
  },
  {
   "cell_type": "code",
   "execution_count": 6,
   "metadata": {},
   "outputs": [],
   "source": [
    "# Istanzio un nuovo processo (Controllare anche gli altri parametri)\n",
    "fp = FederatedProcess(model_name='FederatedTest', model_architecture=MobileNetV2)"
   ]
  },
  {
   "cell_type": "code",
   "execution_count": null,
   "metadata": {},
   "outputs": [],
   "source": [
    "# Inizializzazione (Esporre altri parametri necessari)\n",
    "fp.setup(exp_1_config, batch_size=8)"
   ]
  },
  {
   "cell_type": "code",
   "execution_count": null,
   "metadata": {},
   "outputs": [],
   "source": [
    "# Esegue 3 round di federated\n",
    "fp.federated_round(3)"
   ]
  }
 ],
 "metadata": {
  "kernelspec": {
   "display_name": "Python 3",
   "language": "python",
   "name": "python3"
  },
  "language_info": {
   "codemirror_mode": {
    "name": "ipython",
    "version": 3
   },
   "file_extension": ".py",
   "mimetype": "text/x-python",
   "name": "python",
   "nbconvert_exporter": "python",
   "pygments_lexer": "ipython3",
   "version": "3.6.9"
  }
 },
 "nbformat": 4,
 "nbformat_minor": 4
}
