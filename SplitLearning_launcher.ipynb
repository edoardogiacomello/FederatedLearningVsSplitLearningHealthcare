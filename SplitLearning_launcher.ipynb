{
  "nbformat": 4,
  "nbformat_minor": 0,
  "metadata": {
    "colab": {
      "name": "SplitLearning_launcher.ipynb",
      "provenance": [],
      "collapsed_sections": []
    },
    "kernelspec": {
      "name": "python3",
      "display_name": "Python 3"
    },
    "accelerator": "GPU"
  },
  "cells": [
    {
      "cell_type": "code",
      "metadata": {
        "colab": {
          "base_uri": "https://localhost:8080/"
        },
        "id": "Rxt7FMX5dZvF",
        "outputId": "61863cd9-cc42-4738-d5d8-dc0bd155808a"
      },
      "source": [
        "from google.colab import drive\n",
        "drive.mount('/content/drive', force_remount=True)"
      ],
      "execution_count": 1,
      "outputs": [
        {
          "output_type": "stream",
          "text": [
            "Mounted at /content/drive\n"
          ],
          "name": "stdout"
        }
      ]
    },
    {
      "cell_type": "code",
      "metadata": {
        "colab": {
          "base_uri": "https://localhost:8080/"
        },
        "id": "i5V4JEEmfUNq",
        "outputId": "a3f646db-73f2-4358-d630-848a68ab72f2"
      },
      "source": [
        "!pip install --quiet --upgrade tensorflow_federated\n",
        "!pip install nest_asyncio\n",
        "import nest_asyncio\n",
        "nest_asyncio.apply()"
      ],
      "execution_count": 1,
      "outputs": [
        {
          "output_type": "stream",
          "text": [
            "Requirement already satisfied: nest_asyncio in /usr/local/lib/python3.7/dist-packages (1.5.1)\n"
          ],
          "name": "stdout"
        }
      ]
    },
    {
      "cell_type": "code",
      "metadata": {
        "id": "qlxJdbxCfWZk"
      },
      "source": [
        "import tensorflow as tf\n",
        "# Evita di allocare tutta la memoria video a tensorflow (Chiamare solo al primo import di tf)\n",
        "physical_devices = tf.config.experimental.list_physical_devices('GPU')\n",
        "if len(physical_devices) > 0:\n",
        "    tf.config.experimental.set_memory_growth(physical_devices[0], True)\n",
        "else:\n",
        "    print(\"No GPU found, model running on CPU\")\n",
        "from split_process import SplitProcess\n",
        "import numpy as np\n",
        "import pandas as pd\n",
        "from tensorflow.keras.applications.mobilenet_v2 import MobileNetV2\n",
        "from tensorflow.keras.applications.mobilenet import MobileNet\n",
        "np.warnings.filterwarnings('ignore', category=np.VisibleDeprecationWarning) \n",
        "\n",
        "SEED = 1234567890\n",
        "tf.random.set_seed(SEED)\n",
        "np.random.seed(SEED)"
      ],
      "execution_count": 2,
      "outputs": []
    },
    {
      "cell_type": "code",
      "metadata": {
        "id": "Tp_IYPlBfi-j"
      },
      "source": [
        "# Definizione dei client e dei dataset\n",
        "TAKE_ONLY = None\n",
        "exp_1_config = {\n",
        "    'client_0': {'path':'/content/drive/MyDrive/tfrecords/train_80%-0.tfrecord', 'take_only': TAKE_ONLY},\n",
        "    'client_1': {'path':'/content/drive/MyDrive/tfrecords/train_80%-1.tfrecord', 'take_only': TAKE_ONLY},\n",
        "    'client_2': {'path':'/content/drive/MyDrive/tfrecords/train_80%-2.tfrecord', 'take_only': TAKE_ONLY}\n",
        "}\n",
        "\n",
        "val_config = {\n",
        "    'client_0': {'path':'/content/drive/MyDrive/tfrecords/valid_20%-0.tfrecord', 'take_only': TAKE_ONLY},\n",
        "    'client_1': {'path':'/content/drive/MyDrive/tfrecords/valid_20%-1.tfrecord', 'take_only': TAKE_ONLY},\n",
        "    'client_2': {'path':'/content/drive/MyDrive/tfrecords/valid_20%-2.tfrecord', 'take_only': TAKE_ONLY}\n",
        "}\n",
        "path = '/content/drive/MyDrive/Modelli'"
      ],
      "execution_count": 3,
      "outputs": []
    },
    {
      "cell_type": "code",
      "metadata": {
        "id": "jCZu0wjtfrlA"
      },
      "source": [
        "# Istanzio un nuovo processo\n",
        "sp = SplitProcess(model_name='Split_MobileNet', model_architecture=MobileNet)"
      ],
      "execution_count": 4,
      "outputs": []
    },
    {
      "cell_type": "code",
      "metadata": {
        "colab": {
          "base_uri": "https://localhost:8080/"
        },
        "id": "sY4AESK6fz4T",
        "outputId": "751c2e17-7e1d-4d2b-badb-721e7c6706c8"
      },
      "source": [
        "# Inizializzazione\n",
        "sp.setup(exp_1_config, val_config, output_folder=path)"
      ],
      "execution_count": 5,
      "outputs": [
        {
          "output_type": "stream",
          "text": [
            "Creating split dataset for 3 clients\n",
            "loading /content/drive/MyDrive/tfrecords/train_80%-0.tfrecord\n",
            "loading /content/drive/MyDrive/tfrecords/train_80%-1.tfrecord\n",
            "loading /content/drive/MyDrive/tfrecords/train_80%-2.tfrecord\n",
            "loading /content/drive/MyDrive/tfrecords/valid_20%-0.tfrecord\n",
            "loading /content/drive/MyDrive/tfrecords/valid_20%-1.tfrecord\n",
            "loading /content/drive/MyDrive/tfrecords/valid_20%-2.tfrecord\n",
            "Builiding model of client_0...\n",
            "Builiding model of client_1...\n",
            "Builiding model of client_2...\n"
          ],
          "name": "stdout"
        }
      ]
    },
    {
      "cell_type": "code",
      "metadata": {
        "id": "laa7c4Ubx5O4"
      },
      "source": [
        "sp.iterative_training(split_layer=60, epochs=5)"
      ],
      "execution_count": null,
      "outputs": []
    },
    {
      "cell_type": "code",
      "metadata": {
        "id": "6NDBUZBTu9Wi"
      },
      "source": [
        "sp.parallel_training(split_layer=60, epochs=5)"
      ],
      "execution_count": null,
      "outputs": []
    },
    {
      "cell_type": "code",
      "metadata": {
        "id": "TKiZCvFc7eBn"
      },
      "source": [
        "# sp.evaluation(epochs=1, model_path='/content/drive/MyDrive/Modelli/Split/B')"
      ],
      "execution_count": null,
      "outputs": []
    },
    {
      "cell_type": "code",
      "metadata": {
        "id": "Duo70aIl3lKD"
      },
      "source": [
        "%reload_ext tensorboard\n",
        "%tensorboard --logdir drive/MyDrive/Modelli/Split/A/logs"
      ],
      "execution_count": null,
      "outputs": []
    }
  ]
}